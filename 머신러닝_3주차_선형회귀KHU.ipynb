{
  "nbformat": 4,
  "nbformat_minor": 0,
  "metadata": {
    "colab": {
      "provenance": [],
      "collapsed_sections": [
        "99Knl273kwgJ",
        "JpjuTi5ZkFeo",
        "Skk8GU2-093z",
        "X6w4gsT8xgDI",
        "4Wy0d7nVxpmD",
        "OtRfAGQ_v098",
        "ZEB1_hymFU57",
        "7sGpdvePrDGg",
        "eQrvAfJ8uIwm",
        "wCXAMuD-2yoh"
      ],
      "toc_visible": true,
      "authorship_tag": "ABX9TyM522G7Jwxi0gZ70n9tt2Os",
      "include_colab_link": true
    },
    "kernelspec": {
      "name": "python3",
      "display_name": "Python 3"
    },
    "language_info": {
      "name": "python"
    }
  },
  "cells": [
    {
      "cell_type": "markdown",
      "metadata": {
        "id": "view-in-github",
        "colab_type": "text"
      },
      "source": [
        "<a href=\"https://colab.research.google.com/github/donlee4u/KHU_Class/blob/main/%EB%A8%B8%EC%8B%A0%EB%9F%AC%EB%8B%9D_3%EC%A3%BC%EC%B0%A8_%EC%84%A0%ED%98%95%ED%9A%8C%EA%B7%80KHU.ipynb\" target=\"_parent\"><img src=\"https://colab.research.google.com/assets/colab-badge.svg\" alt=\"Open In Colab\"/></a>"
      ]
    },
    {
      "cell_type": "markdown",
      "source": [
        "# 학습 데이터"
      ],
      "metadata": {
        "id": "g4BZre1la_vs"
      }
    },
    {
      "cell_type": "code",
      "execution_count": null,
      "metadata": {
        "id": "g0tJKKyjdk6c",
        "collapsed": true
      },
      "outputs": [],
      "source": [
        "import numpy as np\n",
        "import matplotlib.pyplot as plt\n",
        "\n",
        "# column vector : input x, output y\n",
        "x = np.array([0.2, 0.4, 0.7, 1.2, 1.5, 1.7, 2.0, 2.5, 2.7, 3.0, 3.4, 3.8, 4.3, 4.4, 4.9]).reshape(-1, 1)\n",
        "y = np.array([0.6, 0.9, 1.1, 1.5, 1.5, 2.0, 2.2, 2.2, 2.6, 2.7, 3.0, 3.0, 3.5, 3.7, 3.8]).reshape(-1, 1)\n",
        "\n",
        "plt.figure(figsize = (6, 4))\n",
        "plt.plot(x, y, 'bo')\n",
        "plt.title('Training Data', fontsize = 16)\n",
        "plt.xlabel('X', fontsize = 12)\n",
        "plt.ylabel('Y', fontsize = 12)\n",
        "plt.axis('equal')\n",
        "plt.grid(alpha = 0.4)\n",
        "plt.show()"
      ]
    },
    {
      "cell_type": "markdown",
      "source": [
        "# 학습 데이터(CSV file)"
      ],
      "metadata": {
        "id": "99Knl273kwgJ"
      }
    },
    {
      "cell_type": "code",
      "source": [
        "from google.colab import drive\n",
        "drive.mount('/content/drive')"
      ],
      "metadata": {
        "id": "I0NbWq1-bauR",
        "colab": {
          "base_uri": "https://localhost:8080/"
        },
        "outputId": "e7b1192d-bbed-4efa-8fb3-d229838231f2"
      },
      "execution_count": null,
      "outputs": [
        {
          "output_type": "stream",
          "name": "stdout",
          "text": [
            "Mounted at /content/drive\n"
          ]
        }
      ]
    },
    {
      "cell_type": "code",
      "source": [
        "import pandas as pd\n",
        "\n",
        "x = pd.read_csv('/content/drive/MyDrive/Machine Learning실습/lr_data.csv', usecols=['x']).values\n",
        "y = pd.read_csv('/content/drive/MyDrive/Machine Learning실습/lr_data.csv', usecols=['y']).values\n",
        "plt.figure(figsize = (6, 4))\n",
        "plt.plot(x, y, 'bo')\n",
        "plt.title('Training Data', fontsize = 16)\n",
        "plt.xlabel('X', fontsize = 12)\n",
        "plt.ylabel('Y', fontsize = 12)\n",
        "plt.axis('equal')\n",
        "plt.grid(alpha = 0.4)\n",
        "plt.show()"
      ],
      "metadata": {
        "id": "KdQ9y4nKblRf"
      },
      "execution_count": null,
      "outputs": []
    },
    {
      "cell_type": "markdown",
      "source": [
        "# 최소제곱법"
      ],
      "metadata": {
        "id": "di47zUp7bLBI"
      }
    },
    {
      "cell_type": "code",
      "source": [
        "import numpy as np\n",
        "import matplotlib.pyplot as plt\n",
        "\n",
        "# column vector : input x, output y\n",
        "x = np.array([0.2, 0.4, 0.7, 1.2, 1.5, 1.7, 2.0, 2.5, 2.7, 3.0, 3.4, 3.8, 4.3, 4.4, 4.9]).reshape(-1, 1)\n",
        "y = np.array([0.6, 0.9, 1.1, 1.5, 1.5, 2.0, 2.2, 2.2, 2.6, 2.7, 3.0, 3.0, 3.5, 3.7, 3.8]).reshape(-1, 1)\n",
        "\n",
        "# m = y.shape[0]\n",
        "# np.hstack([np.ones([m,1]), x])\n",
        "A = np.hstack([x**0, x])\n",
        "A = np.asmatrix(A)\n",
        "#print('A :\\n', A)\n",
        "\n",
        "w = (A.T*A).I*A.T*y\n",
        "print('parameter w :\\n', w)\n"
      ],
      "metadata": {
        "id": "dYIHEpk1T3mD"
      },
      "execution_count": null,
      "outputs": []
    },
    {
      "cell_type": "code",
      "source": [
        "# 학습 데이터\n",
        "plt.figure(figsize = (6, 4))\n",
        "plt.title('Linear Regression', fontsize = 16)\n",
        "plt.xlabel('X', fontsize = 12)\n",
        "plt.ylabel('Y', fontsize = 12)\n",
        "plt.plot(x, y, 'bo', label = \"Training data\")\n",
        "\n",
        "# 선형모델 plotting (최소제곱법)\n",
        "xp = np.arange(0, 5, 0.01).reshape(-1, 1)\n",
        "yp = w[0,0] + w[1,0]*xp\n",
        "#print(yp)\n",
        "plt.plot(xp, yp, 'r', linewidth = 2, label = \"Linear model\")\n",
        "plt.legend()\n",
        "plt.axis('equal')\n",
        "plt.grid(alpha = 0.4)\n",
        "plt.show()"
      ],
      "metadata": {
        "id": "d9eTDIzaT_WP"
      },
      "execution_count": null,
      "outputs": []
    },
    {
      "cell_type": "markdown",
      "source": [
        "# 경사하강법(Gradient Descent)"
      ],
      "metadata": {
        "id": "3W-EIVkVvmDA"
      }
    },
    {
      "cell_type": "code",
      "source": [
        "# Gradient Descent\n",
        "import numpy as np\n",
        "import matplotlib.pyplot as plt\n",
        "\n",
        "x = np.array([0.2, 0.4, 0.7, 1.2, 1.5, 1.7, 2.0, 2.5, 2.7, 3.0, 3.4, 3.8, 4.3, 4.4, 4.9]).reshape(-1, 1)\n",
        "y = np.array([0.6, 0.9, 1.1, 1.5, 1.5, 2.0, 2.2, 2.2, 2.6, 2.7, 3.0, 3.0, 3.5, 3.7, 3.8]).reshape(-1, 1)\n",
        "\n",
        "# m = y.shape[0]\n",
        "# np.hstack([np.ones([m,1]), x])\n",
        "A = np.hstack([x**0, x])  # data x의 앞에 1을 horizontal 방향으로 추가\n",
        "A = np.asmatrix(A)\n",
        "# print('A :\\n', A)\n",
        "\n",
        "w1 = 0       # 기울기\n",
        "w0 = 0       # 절편\n",
        "\n",
        "lrate = 0.01  # 학습률(Learning rate) --> α\n",
        "epochs = 1000  # 반복 횟수\n",
        "\n",
        "n = float(len(x)) # 입력 데이터의 개수\n",
        "\n",
        "# 경사 하강법\n",
        "for i in range(epochs):\n",
        "    y_pred = w1*x + w0  \t\t          \t# 선형 회귀 예측값\n",
        "    dw1 = (1/n) * sum(x * (y_pred-y)) \t# 넘파이 배열간의 산술 계산은 요소별로 적용\n",
        "    dw0 = (1/n) * sum(y_pred-y)  \t      # sum()은 모든 요소들의 합을 계산하는 내장 함수\n",
        "    w1 = w1 - lrate * dw1           \t\t# 기울기 update\n",
        "    w0 = w0 - lrate * dw0  \t\t          # 절편 update\n",
        "print (w1, w0)\n",
        "\n",
        "# 학습 데이터 그래프\n",
        "plt.figure(figsize = (6, 4))\n",
        "plt.title('Linear Regression(Gradient Descent)', fontsize = 16)\n",
        "plt.xlabel('X', fontsize = 12)\n",
        "plt.ylabel('Y', fontsize = 12)\n",
        "plt.plot(x, y, 'bo', label = \"Training data\")\n",
        "\n",
        "xp = np.arange(0, 5, 0.01).reshape(-1, 1)\n",
        "y_pred = w1*xp + w0  # 예측값을 만든다.\n",
        "#print(y_pred)\n",
        "plt.plot(xp, y_pred, 'r', linewidth = 2, label = \"Linear model\")\n",
        "plt.legend()\n",
        "plt.axis('equal')\n",
        "plt.grid(alpha = 0.4)\n",
        "plt.show()"
      ],
      "metadata": {
        "id": "n9xhdRrD3jqt"
      },
      "execution_count": null,
      "outputs": []
    },
    {
      "cell_type": "code",
      "source": [
        "# Gradient Descent2\n",
        "import numpy as np\n",
        "import matplotlib.pyplot as plt\n",
        "\n",
        "# column vector x,y [input, output]\n",
        "x = np.array([0.2, 0.4, 0.7, 1.2, 1.5, 1.7, 2.0, 2.5, 2.7, 3.0, 3.4, 3.8, 4.3, 4.4, 4.9]).reshape(-1, 1)  # 15개 data\n",
        "y = np.array([0.6, 0.9, 1.1, 1.5, 1.5, 2.0, 2.2, 2.2, 2.6, 2.7, 3.0, 3.0, 3.5, 3.7, 3.8]).reshape(-1, 1)\n",
        "\n",
        "m = y.shape[0]\n",
        "A = np.hstack([x**0, x]) # np.hstack([np.ones([m,1]), x]),    data x의 앞에 1을 horizontal 방향으로 추가\n",
        "A = np.asmatrix(A)       # A를 행렬로 변환\n",
        "\n",
        "w = np.random.randn(2,1)    # initial parameter setting randn(행개수,열개수)\n",
        "w = np.asmatrix(w)\n",
        "\n",
        "alpha = 0.001                # Learning rate\n",
        "\n",
        "for _ in range(1000):         # epoch\n",
        "    dJ = 2*(A.T*A*w - A.T*y)  # Partial derivative of parameter\n",
        "    w = w - alpha*dJ          # Gradient Descent\n",
        "\n",
        "print (w)\n",
        "\n",
        "plt.figure(figsize = (6, 4))\n",
        "plt.title('Linear Regression(Gradient Descent)', fontsize = 16)\n",
        "plt.xlabel('X', fontsize = 12)\n",
        "plt.ylabel('Y', fontsize = 12)\n",
        "plt.plot(x, y, 'bo', label = \"data\")\n",
        "\n",
        "xp = np.arange(0, 5, 0.01).reshape(-1, 1)\n",
        "yp = w[0,0] + w[1,0]*xp\n",
        "\n",
        "plt.plot(xp, yp, 'r', linewidth = 2, label = \"Linear model\")\n",
        "plt.legend()\n",
        "plt.axis('equal')\n",
        "plt.grid(alpha = 0.3)\n",
        "plt.show()"
      ],
      "metadata": {
        "id": "y4esB0CeQq2N"
      },
      "execution_count": null,
      "outputs": []
    },
    {
      "cell_type": "markdown",
      "source": [
        "## 1) L2 Norm\n",
        "<br>\n",
        "$$arg\\min_{\\omega} ~ \\lVert \\hat y - y \\rVert_2  =  arg\\min_{\\omega} ~ \\lVert A\\omega - y \\rVert_2$$\n",
        "<br>"
      ],
      "metadata": {
        "id": "MDZFvlI6ClDy"
      }
    },
    {
      "cell_type": "markdown",
      "source": [
        "## 2) L1 Norm\n",
        "\n",
        "$$  arg\\min_{\\omega} ~ \\lVert \\hat y - y \\rVert_1  =  arg\\min_{\\omega} ~ \\lVert A\\omega - y \\rVert_1  $$\n",
        "<br>"
      ],
      "metadata": {
        "id": "YtIBKMPlLhgX"
      }
    },
    {
      "cell_type": "code",
      "source": [
        "import cvxpy as cvx\n",
        "\n",
        "w = cvx.Variable([2, 1])\n",
        "opt_cost_l1 = cvx.Minimize(cvx.norm(A@w - y, 1)) # L1 norm\n",
        "cvx.Problem(opt_cost_l1,[]).solve()\n",
        "\n",
        "print('Omega:\\n', w.value)\n",
        "\n",
        "\n",
        "# to plot straight lines (fitted lines)\n",
        "plt.figure(figsize = (6, 4))\n",
        "plt.title('Linear Regression', fontsize = 16)\n",
        "plt.xlabel('X', fontsize = 12)\n",
        "plt.ylabel('Y', fontsize = 12)\n",
        "plt.plot(x, y, 'bo', label = \"data\")\n",
        "\n",
        "xp = np.arange(0, 5, 0.01).reshape(-1, 1)\n",
        "yp = w.value[0,0] + w.value[1,0]*xp\n",
        "\n",
        "plt.plot(xp, yp, 'r', linewidth = 2, label = '$L_1$')\n",
        "plt.legend()\n",
        "plt.axis('equal')\n",
        "plt.grid(alpha = 0.3)\n",
        "plt.show()\n"
      ],
      "metadata": {
        "id": "mgoaDjO46X3g"
      },
      "execution_count": null,
      "outputs": []
    },
    {
      "cell_type": "markdown",
      "source": [
        "\n",
        "#  Outliers가 존재할 때의 L2 norm과 L1 norm 비교\n"
      ],
      "metadata": {
        "id": "4Wy0d7nVxpmD"
      }
    },
    {
      "cell_type": "markdown",
      "source": [
        "\n",
        "## 1) Outliers data 추가"
      ],
      "metadata": {
        "id": "0X_G3C8iDAKa"
      }
    },
    {
      "cell_type": "code",
      "source": [
        "# column vector x,y [input, output]\n",
        "x = np.array([0.2, 0.4, 0.7, 1.2, 1.5, 1.7, 2.0, 2.5, 2.7, 3.0, 3.4, 3.8, 4.3, 4.4, 4.9]).reshape(-1, 1)  # 15개 data\n",
        "y = np.array([0.6, 0.9, 1.1, 1.5, 1.5, 2.0, 2.2, 2.2, 2.6, 2.7, 3.0, 3.0, 3.5, 3.7, 3.8]).reshape(-1, 1)\n",
        "\n",
        "# outliers 데이터 추가\n",
        "x = np.vstack([x, np.array([0.5, 3.5]).reshape(-1, 1)])\n",
        "y = np.vstack([y, np.array([4.0, 0.8]).reshape(-1, 1)])\n",
        "\n",
        "A = np.hstack([x**0, x])\n",
        "A = np.asmatrix(A)\n",
        "# A.shape\n",
        "print(A)\n"
      ],
      "metadata": {
        "id": "iPGzJicFlYbw"
      },
      "execution_count": null,
      "outputs": []
    },
    {
      "cell_type": "code",
      "source": [
        "# to plot straight lines (fitted lines)\n",
        "plt.figure(figsize = (6, 4))\n",
        "plt.title('Linear Regression', fontsize = 16)\n",
        "plt.xlabel('X', fontsize = 12)\n",
        "plt.ylabel('Y', fontsize = 12)\n",
        "plt.plot(x, y, 'bo', label = \"data\")"
      ],
      "metadata": {
        "id": "0HS9WU9vlfUW"
      },
      "execution_count": null,
      "outputs": []
    },
    {
      "cell_type": "code",
      "source": [],
      "metadata": {
        "id": "r7WfpzHpx2zR"
      },
      "execution_count": null,
      "outputs": []
    },
    {
      "cell_type": "markdown",
      "source": [
        "## 2) L2 Norm"
      ],
      "metadata": {
        "id": "cI8fEfNcvCWG"
      }
    },
    {
      "cell_type": "code",
      "source": [
        "import cvxpy as cvx\n",
        "\n",
        "w = cvx.Variable([2, 1])\n",
        "opt_cost_l2 = cvx.Minimize(cvx.norm(A@w - y, 2))  # L2 norm\n",
        "cvx.Problem(opt_cost_l2,[]).solve()\n",
        "\n",
        "print('Omega:\\n', w.value)\n",
        "\n",
        "\n",
        "# to plot straight lines (fitted lines)\n",
        "plt.figure(figsize = (6, 4))\n",
        "plt.title('Linear Regression', fontsize = 16)\n",
        "plt.xlabel('X', fontsize = 12)\n",
        "plt.ylabel('Y', fontsize = 12)\n",
        "plt.plot(x, y, 'bo', label = \"data\")\n",
        "\n",
        "xp = np.arange(0, 5, 0.01).reshape(-1, 1)\n",
        "yp = w.value[0,0] + w.value[1,0]*xp\n",
        "\n",
        "plt.plot(xp, yp, 'r', linewidth = 2, label = '$L_2$ norm')\n",
        "plt.legend()\n",
        "plt.axis('equal')\n",
        "plt.grid(alpha = 0.3)\n",
        "plt.show()"
      ],
      "metadata": {
        "id": "ExfcV5E2lizw"
      },
      "execution_count": null,
      "outputs": []
    },
    {
      "cell_type": "markdown",
      "source": [
        "## 3) L1 Norm"
      ],
      "metadata": {
        "id": "OtRfAGQ_v098"
      }
    },
    {
      "cell_type": "code",
      "source": [
        "import cvxpy as cvx\n",
        "\n",
        "w = cvx.Variable([2, 1])\n",
        "opt_cost_l1 = cvx.Minimize(cvx.norm(A@w - y, 1)) # L1 norm\n",
        "cvx.Problem(opt_cost_l1,[]).solve()\n",
        "\n",
        "print('Omega:\\n', w.value)\n",
        "\n",
        "\n",
        "# to plot straight lines (fitted lines)\n",
        "plt.figure(figsize = (6, 4))\n",
        "plt.title('Linear Regression', fontsize = 16)\n",
        "plt.xlabel('X', fontsize = 12)\n",
        "plt.ylabel('Y', fontsize = 12)\n",
        "plt.plot(x, y, 'bo', label = \"data\")\n",
        "\n",
        "xp = np.arange(0, 5, 0.01).reshape(-1, 1)\n",
        "yp = w.value[0,0] + w.value[1,0]*xp\n",
        "\n",
        "plt.plot(xp, yp, 'r', linewidth = 2, label = '$L_1$ norm')\n",
        "plt.legend()\n",
        "plt.axis('equal')\n",
        "plt.grid(alpha = 0.3)\n",
        "plt.show()"
      ],
      "metadata": {
        "colab": {
          "base_uri": "https://localhost:8080/",
          "height": 472
        },
        "id": "7bSzQ3i_py5x",
        "outputId": "73a42181-0401-4293-8204-a39b9319ee84"
      },
      "execution_count": null,
      "outputs": [
        {
          "output_type": "stream",
          "name": "stdout",
          "text": [
            "Omega:\n",
            " [[0.63333333]\n",
            " [0.66666667]]\n"
          ]
        },
        {
          "output_type": "display_data",
          "data": {
            "text/plain": [
              "<Figure size 600x400 with 1 Axes>"
            ],
            "image/png": "[encoded data removed]"
          },
          "metadata": {}
        }
      ]
    },
    {
      "cell_type": "markdown",
      "source": [
        "<br>\n",
        "\n",
        "# Scikit-Learn : Linear Regression\n",
        "\n",
        "<br>\n",
        "\n",
        "- Simple and efficient tools for data mining and data analysis\n",
        "- Accessible to everybody, and reusable in various contexts\n",
        "- Built on NumPy, SciPy, and Matplotlib\n",
        "- Open source\n",
        "- https://scikit-learn.org/stable/index.html#\n",
        "\n",
        "<br>"
      ],
      "metadata": {
        "id": "ZEB1_hymFU57"
      }
    },
    {
      "cell_type": "code",
      "source": [
        "from sklearn import linear_model\n",
        "\n",
        "# column vector x,y [input, output]\n",
        "x = np.array([0.2, 0.4, 0.7, 1.2, 1.5, 1.7, 2.0, 2.5, 2.7, 3.0, 3.4, 3.8, 4.3, 4.4, 4.9]).reshape(-1, 1)  # 15개 data\n",
        "y = np.array([0.6, 0.9, 1.1, 1.5, 1.5, 2.0, 2.2, 2.2, 2.6, 2.7, 3.0, 3.0, 3.5, 3.7, 3.8]).reshape(-1, 1)"
      ],
      "metadata": {
        "id": "Ch1lm0HAFVRB"
      },
      "execution_count": null,
      "outputs": []
    },
    {
      "cell_type": "code",
      "source": [
        "reg = linear_model.LinearRegression()\n",
        "reg.fit(x, y)       # 학습"
      ],
      "metadata": {
        "id": "GukX8N9oGAJm",
        "colab": {
          "base_uri": "https://localhost:8080/",
          "height": 81
        },
        "outputId": "8c43a11d-4160-4bb4-ad56-f187df585aee"
      },
      "execution_count": null,
      "outputs": [
        {
          "output_type": "execute_result",
          "data": {
            "text/plain": [
              "LinearRegression()"
            ],
            "text/html": [
              "<style>#sk-container-id-3 {\n",
              "  /* Definition of color scheme common for light and dark mode */\n",
              "  --sklearn-color-text: #000;\n",
              "  --sklearn-color-text-muted: #666;\n",
              "  --sklearn-color-line: gray;\n",
              "  /* Definition of color scheme for unfitted estimators */\n",
              "  --sklearn-color-unfitted-level-0: #fff5e6;\n",
              "  --sklearn-color-unfitted-level-1: #f6e4d2;\n",
              "  --sklearn-color-unfitted-level-2: #ffe0b3;\n",
              "  --sklearn-color-unfitted-level-3: chocolate;\n",
              "  /* Definition of color scheme for fitted estimators */\n",
              "  --sklearn-color-fitted-level-0: #f0f8ff;\n",
              "  --sklearn-color-fitted-level-1: #d4ebff;\n",
              "  --sklearn-color-fitted-level-2: #b3dbfd;\n",
              "  --sklearn-color-fitted-level-3: cornflowerblue;\n",
              "\n",
              "  /* Specific color for light theme */\n",
              "  --sklearn-color-text-on-default-background: var(--sg-text-color, var(--theme-code-foreground, var(--jp-content-font-color1, black)));\n",
              "  --sklearn-color-background: var(--sg-background-color, var(--theme-background, var(--jp-layout-color0, white)));\n",
              "  --sklearn-color-border-box: var(--sg-text-color, var(--theme-code-foreground, var(--jp-content-font-color1, black)));\n",
              "  --sklearn-color-icon: #696969;\n",
              "\n",
              "  @media (prefers-color-scheme: dark) {\n",
              "    /* Redefinition of color scheme for dark theme */\n",
              "    --sklearn-color-text-on-default-background: var(--sg-text-color, var(--theme-code-foreground, var(--jp-content-font-color1, white)));\n",
              "    --sklearn-color-background: var(--sg-background-color, var(--theme-background, var(--jp-layout-color0, #111)));\n",
              "    --sklearn-color-border-box: var(--sg-text-color, var(--theme-code-foreground, var(--jp-content-font-color1, white)));\n",
              "    --sklearn-color-icon: #878787;\n",
              "  }\n",
              "}\n",
              "\n",
              "#sk-container-id-3 {\n",
              "  color: var(--sklearn-color-text);\n",
              "}\n",
              "\n",
              "#sk-container-id-3 pre {\n",
              "  padding: 0;\n",
              "}\n",
              "\n",
              "#sk-container-id-3 input.sk-hidden--visually {\n",
              "  border: 0;\n",
              "  clip: rect(1px 1px 1px 1px);\n",
              "  clip: rect(1px, 1px, 1px, 1px);\n",
              "  height: 1px;\n",
              "  margin: -1px;\n",
              "  overflow: hidden;\n",
              "  padding: 0;\n",
              "  position: absolute;\n",
              "  width: 1px;\n",
              "}\n",
              "\n",
              "#sk-container-id-3 div.sk-dashed-wrapped {\n",
              "  border: 1px dashed var(--sklearn-color-line);\n",
              "  margin: 0 0.4em 0.5em 0.4em;\n",
              "  box-sizing: border-box;\n",
              "  padding-bottom: 0.4em;\n",
              "  background-color: var(--sklearn-color-background);\n",
              "}\n",
              "\n",
              "#sk-container-id-3 div.sk-container {\n",
              "  /* jupyter's `normalize.less` sets `[hidden] { display: none; }`\n",
              "     but bootstrap.min.css set `[hidden] { display: none !important; }`\n",
              "     so we also need the `!important` here to be able to override the\n",
              "     default hidden behavior on the sphinx rendered scikit-learn.org.\n",
              "     See: https://github.com/scikit-learn/scikit-learn/issues/21755 */\n",
              "  display: inline-block !important;\n",
              "  position: relative;\n",
              "}\n",
              "\n",
              "#sk-container-id-3 div.sk-text-repr-fallback {\n",
              "  display: none;\n",
              "}\n",
              "\n",
              "div.sk-parallel-item,\n",
              "div.sk-serial,\n",
              "div.sk-item {\n",
              "  /* draw centered vertical line to link estimators */\n",
              "  background-image: linear-gradient(var(--sklearn-color-text-on-default-background), var(--sklearn-color-text-on-default-background));\n",
              "  background-size: 2px 100%;\n",
              "  background-repeat: no-repeat;\n",
              "  background-position: center center;\n",
              "}\n",
              "\n",
              "/* Parallel-specific style estimator block */\n",
              "\n",
              "#sk-container-id-3 div.sk-parallel-item::after {\n",
              "  content: \"\";\n",
              "  width: 100%;\n",
              "  border-bottom: 2px solid var(--sklearn-color-text-on-default-background);\n",
              "  flex-grow: 1;\n",
              "}\n",
              "\n",
              "#sk-container-id-3 div.sk-parallel {\n",
              "  display: flex;\n",
              "  align-items: stretch;\n",
              "  justify-content: center;\n",
              "  background-color: var(--sklearn-color-background);\n",
              "  position: relative;\n",
              "}\n",
              "\n",
              "#sk-container-id-3 div.sk-parallel-item {\n",
              "  display: flex;\n",
              "  flex-direction: column;\n",
              "}\n",
              "\n",
              "#sk-container-id-3 div.sk-parallel-item:first-child::after {\n",
              "  align-self: flex-end;\n",
              "  width: 50%;\n",
              "}\n",
              "\n",
              "#sk-container-id-3 div.sk-parallel-item:last-child::after {\n",
              "  align-self: flex-start;\n",
              "  width: 50%;\n",
              "}\n",
              "\n",
              "#sk-container-id-3 div.sk-parallel-item:only-child::after {\n",
              "  width: 0;\n",
              "}\n",
              "\n",
              "/* Serial-specific style estimator block */\n",
              "\n",
              "#sk-container-id-3 div.sk-serial {\n",
              "  display: flex;\n",
              "  flex-direction: column;\n",
              "  align-items: center;\n",
              "  background-color: var(--sklearn-color-background);\n",
              "  padding-right: 1em;\n",
              "  padding-left: 1em;\n",
              "}\n",
              "\n",
              "\n",
              "/* Toggleable style: style used for estimator/Pipeline/ColumnTransformer box that is\n",
              "clickable and can be expanded/collapsed.\n",
              "- Pipeline and ColumnTransformer use this feature and define the default style\n",
              "- Estimators will overwrite some part of the style using the `sk-estimator` class\n",
              "*/\n",
              "\n",
              "/* Pipeline and ColumnTransformer style (default) */\n",
              "\n",
              "#sk-container-id-3 div.sk-toggleable {\n",
              "  /* Default theme specific background. It is overwritten whether we have a\n",
              "  specific estimator or a Pipeline/ColumnTransformer */\n",
              "  background-color: var(--sklearn-color-background);\n",
              "}\n",
              "\n",
              "/* Toggleable label */\n",
              "#sk-container-id-3 label.sk-toggleable__label {\n",
              "  cursor: pointer;\n",
              "  display: flex;\n",
              "  width: 100%;\n",
              "  margin-bottom: 0;\n",
              "  padding: 0.5em;\n",
              "  box-sizing: border-box;\n",
              "  text-align: center;\n",
              "  align-items: start;\n",
              "  justify-content: space-between;\n",
              "  gap: 0.5em;\n",
              "}\n",
              "\n",
              "#sk-container-id-3 label.sk-toggleable__label .caption {\n",
              "  font-size: 0.6rem;\n",
              "  font-weight: lighter;\n",
              "  color: var(--sklearn-color-text-muted);\n",
              "}\n",
              "\n",
              "#sk-container-id-3 label.sk-toggleable__label-arrow:before {\n",
              "  /* Arrow on the left of the label */\n",
              "  content: \"▸\";\n",
              "  float: left;\n",
              "  margin-right: 0.25em;\n",
              "  color: var(--sklearn-color-icon);\n",
              "}\n",
              "\n",
              "#sk-container-id-3 label.sk-toggleable__label-arrow:hover:before {\n",
              "  color: var(--sklearn-color-text);\n",
              "}\n",
              "\n",
              "/* Toggleable content - dropdown */\n",
              "\n",
              "#sk-container-id-3 div.sk-toggleable__content {\n",
              "  max-height: 0;\n",
              "  max-width: 0;\n",
              "  overflow: hidden;\n",
              "  text-align: left;\n",
              "  /* unfitted */\n",
              "  background-color: var(--sklearn-color-unfitted-level-0);\n",
              "}\n",
              "\n",
              "#sk-container-id-3 div.sk-toggleable__content.fitted {\n",
              "  /* fitted */\n",
              "  background-color: var(--sklearn-color-fitted-level-0);\n",
              "}\n",
              "\n",
              "#sk-container-id-3 div.sk-toggleable__content pre {\n",
              "  margin: 0.2em;\n",
              "  border-radius: 0.25em;\n",
              "  color: var(--sklearn-color-text);\n",
              "  /* unfitted */\n",
              "  background-color: var(--sklearn-color-unfitted-level-0);\n",
              "}\n",
              "\n",
              "#sk-container-id-3 div.sk-toggleable__content.fitted pre {\n",
              "  /* unfitted */\n",
              "  background-color: var(--sklearn-color-fitted-level-0);\n",
              "}\n",
              "\n",
              "#sk-container-id-3 input.sk-toggleable__control:checked~div.sk-toggleable__content {\n",
              "  /* Expand drop-down */\n",
              "  max-height: 200px;\n",
              "  max-width: 100%;\n",
              "  overflow: auto;\n",
              "}\n",
              "\n",
              "#sk-container-id-3 input.sk-toggleable__control:checked~label.sk-toggleable__label-arrow:before {\n",
              "  content: \"▾\";\n",
              "}\n",
              "\n",
              "/* Pipeline/ColumnTransformer-specific style */\n",
              "\n",
              "#sk-container-id-3 div.sk-label input.sk-toggleable__control:checked~label.sk-toggleable__label {\n",
              "  color: var(--sklearn-color-text);\n",
              "  background-color: var(--sklearn-color-unfitted-level-2);\n",
              "}\n",
              "\n",
              "#sk-container-id-3 div.sk-label.fitted input.sk-toggleable__control:checked~label.sk-toggleable__label {\n",
              "  background-color: var(--sklearn-color-fitted-level-2);\n",
              "}\n",
              "\n",
              "/* Estimator-specific style */\n",
              "\n",
              "/* Colorize estimator box */\n",
              "#sk-container-id-3 div.sk-estimator input.sk-toggleable__control:checked~label.sk-toggleable__label {\n",
              "  /* unfitted */\n",
              "  background-color: var(--sklearn-color-unfitted-level-2);\n",
              "}\n",
              "\n",
              "#sk-container-id-3 div.sk-estimator.fitted input.sk-toggleable__control:checked~label.sk-toggleable__label {\n",
              "  /* fitted */\n",
              "  background-color: var(--sklearn-color-fitted-level-2);\n",
              "}\n",
              "\n",
              "#sk-container-id-3 div.sk-label label.sk-toggleable__label,\n",
              "#sk-container-id-3 div.sk-label label {\n",
              "  /* The background is the default theme color */\n",
              "  color: var(--sklearn-color-text-on-default-background);\n",
              "}\n",
              "\n",
              "/* On hover, darken the color of the background */\n",
              "#sk-container-id-3 div.sk-label:hover label.sk-toggleable__label {\n",
              "  color: var(--sklearn-color-text);\n",
              "  background-color: var(--sklearn-color-unfitted-level-2);\n",
              "}\n",
              "\n",
              "/* Label box, darken color on hover, fitted */\n",
              "#sk-container-id-3 div.sk-label.fitted:hover label.sk-toggleable__label.fitted {\n",
              "  color: var(--sklearn-color-text);\n",
              "  background-color: var(--sklearn-color-fitted-level-2);\n",
              "}\n",
              "\n",
              "/* Estimator label */\n",
              "\n",
              "#sk-container-id-3 div.sk-label label {\n",
              "  font-family: monospace;\n",
              "  font-weight: bold;\n",
              "  display: inline-block;\n",
              "  line-height: 1.2em;\n",
              "}\n",
              "\n",
              "#sk-container-id-3 div.sk-label-container {\n",
              "  text-align: center;\n",
              "}\n",
              "\n",
              "/* Estimator-specific */\n",
              "#sk-container-id-3 div.sk-estimator {\n",
              "  font-family: monospace;\n",
              "  border: 1px dotted var(--sklearn-color-border-box);\n",
              "  border-radius: 0.25em;\n",
              "  box-sizing: border-box;\n",
              "  margin-bottom: 0.5em;\n",
              "  /* unfitted */\n",
              "  background-color: var(--sklearn-color-unfitted-level-0);\n",
              "}\n",
              "\n",
              "#sk-container-id-3 div.sk-estimator.fitted {\n",
              "  /* fitted */\n",
              "  background-color: var(--sklearn-color-fitted-level-0);\n",
              "}\n",
              "\n",
              "/* on hover */\n",
              "#sk-container-id-3 div.sk-estimator:hover {\n",
              "  /* unfitted */\n",
              "  background-color: var(--sklearn-color-unfitted-level-2);\n",
              "}\n",
              "\n",
              "#sk-container-id-3 div.sk-estimator.fitted:hover {\n",
              "  /* fitted */\n",
              "  background-color: var(--sklearn-color-fitted-level-2);\n",
              "}\n",
              "\n",
              "/* Specification for estimator info (e.g. \"i\" and \"?\") */\n",
              "\n",
              "/* Common style for \"i\" and \"?\" */\n",
              "\n",
              ".sk-estimator-doc-link,\n",
              "a:link.sk-estimator-doc-link,\n",
              "a:visited.sk-estimator-doc-link {\n",
              "  float: right;\n",
              "  font-size: smaller;\n",
              "  line-height: 1em;\n",
              "  font-family: monospace;\n",
              "  background-color: var(--sklearn-color-background);\n",
              "  border-radius: 1em;\n",
              "  height: 1em;\n",
              "  width: 1em;\n",
              "  text-decoration: none !important;\n",
              "  margin-left: 0.5em;\n",
              "  text-align: center;\n",
              "  /* unfitted */\n",
              "  border: var(--sklearn-color-unfitted-level-1) 1pt solid;\n",
              "  color: var(--sklearn-color-unfitted-level-1);\n",
              "}\n",
              "\n",
              ".sk-estimator-doc-link.fitted,\n",
              "a:link.sk-estimator-doc-link.fitted,\n",
              "a:visited.sk-estimator-doc-link.fitted {\n",
              "  /* fitted */\n",
              "  border: var(--sklearn-color-fitted-level-1) 1pt solid;\n",
              "  color: var(--sklearn-color-fitted-level-1);\n",
              "}\n",
              "\n",
              "/* On hover */\n",
              "div.sk-estimator:hover .sk-estimator-doc-link:hover,\n",
              ".sk-estimator-doc-link:hover,\n",
              "div.sk-label-container:hover .sk-estimator-doc-link:hover,\n",
              ".sk-estimator-doc-link:hover {\n",
              "  /* unfitted */\n",
              "  background-color: var(--sklearn-color-unfitted-level-3);\n",
              "  color: var(--sklearn-color-background);\n",
              "  text-decoration: none;\n",
              "}\n",
              "\n",
              "div.sk-estimator.fitted:hover .sk-estimator-doc-link.fitted:hover,\n",
              ".sk-estimator-doc-link.fitted:hover,\n",
              "div.sk-label-container:hover .sk-estimator-doc-link.fitted:hover,\n",
              ".sk-estimator-doc-link.fitted:hover {\n",
              "  /* fitted */\n",
              "  background-color: var(--sklearn-color-fitted-level-3);\n",
              "  color: var(--sklearn-color-background);\n",
              "  text-decoration: none;\n",
              "}\n",
              "\n",
              "/* Span, style for the box shown on hovering the info icon */\n",
              ".sk-estimator-doc-link span {\n",
              "  display: none;\n",
              "  z-index: 9999;\n",
              "  position: relative;\n",
              "  font-weight: normal;\n",
              "  right: .2ex;\n",
              "  padding: .5ex;\n",
              "  margin: .5ex;\n",
              "  width: min-content;\n",
              "  min-width: 20ex;\n",
              "  max-width: 50ex;\n",
              "  color: var(--sklearn-color-text);\n",
              "  box-shadow: 2pt 2pt 4pt #999;\n",
              "  /* unfitted */\n",
              "  background: var(--sklearn-color-unfitted-level-0);\n",
              "  border: .5pt solid var(--sklearn-color-unfitted-level-3);\n",
              "}\n",
              "\n",
              ".sk-estimator-doc-link.fitted span {\n",
              "  /* fitted */\n",
              "  background: var(--sklearn-color-fitted-level-0);\n",
              "  border: var(--sklearn-color-fitted-level-3);\n",
              "}\n",
              "\n",
              ".sk-estimator-doc-link:hover span {\n",
              "  display: block;\n",
              "}\n",
              "\n",
              "/* \"?\"-specific style due to the `<a>` HTML tag */\n",
              "\n",
              "#sk-container-id-3 a.estimator_doc_link {\n",
              "  float: right;\n",
              "  font-size: 1rem;\n",
              "  line-height: 1em;\n",
              "  font-family: monospace;\n",
              "  background-color: var(--sklearn-color-background);\n",
              "  border-radius: 1rem;\n",
              "  height: 1rem;\n",
              "  width: 1rem;\n",
              "  text-decoration: none;\n",
              "  /* unfitted */\n",
              "  color: var(--sklearn-color-unfitted-level-1);\n",
              "  border: var(--sklearn-color-unfitted-level-1) 1pt solid;\n",
              "}\n",
              "\n",
              "#sk-container-id-3 a.estimator_doc_link.fitted {\n",
              "  /* fitted */\n",
              "  border: var(--sklearn-color-fitted-level-1) 1pt solid;\n",
              "  color: var(--sklearn-color-fitted-level-1);\n",
              "}\n",
              "\n",
              "/* On hover */\n",
              "#sk-container-id-3 a.estimator_doc_link:hover {\n",
              "  /* unfitted */\n",
              "  background-color: var(--sklearn-color-unfitted-level-3);\n",
              "  color: var(--sklearn-color-background);\n",
              "  text-decoration: none;\n",
              "}\n",
              "\n",
              "#sk-container-id-3 a.estimator_doc_link.fitted:hover {\n",
              "  /* fitted */\n",
              "  background-color: var(--sklearn-color-fitted-level-3);\n",
              "}\n",
              "</style><div id=\"sk-container-id-3\" class=\"sk-top-container\"><div class=\"sk-text-repr-fallback\"><pre>LinearRegression()</pre><b>In a Jupyter environment, please rerun this cell to show the HTML representation or trust the notebook. <br />On GitHub, the HTML representation is unable to render, please try loading this page with nbviewer.org.</b></div><div class=\"sk-container\" hidden><div class=\"sk-item\"><div class=\"sk-estimator fitted sk-toggleable\"><input class=\"sk-toggleable__control sk-hidden--visually\" id=\"sk-estimator-id-3\" type=\"checkbox\" checked><label for=\"sk-estimator-id-3\" class=\"sk-toggleable__label fitted sk-toggleable__label-arrow\"><div><div>LinearRegression</div></div><div><a class=\"sk-estimator-doc-link fitted\" rel=\"noreferrer\" target=\"_blank\" href=\"https://scikit-learn.org/1.6/modules/generated/sklearn.linear_model.LinearRegression.html\">?<span>Documentation for LinearRegression</span></a><span class=\"sk-estimator-doc-link fitted\">i<span>Fitted</span></span></div></label><div class=\"sk-toggleable__content fitted\"><pre>LinearRegression()</pre></div> </div></div></div></div>"
            ]
          },
          "metadata": {},
          "execution_count": 33
        }
      ]
    },
    {
      "cell_type": "code",
      "source": [
        "reg.coef_"
      ],
      "metadata": {
        "id": "ZIn4TWskGCQs",
        "colab": {
          "base_uri": "https://localhost:8080/"
        },
        "outputId": "0266e3ae-d396-4a14-cd4a-8d6bc6914f2f"
      },
      "execution_count": null,
      "outputs": [
        {
          "output_type": "execute_result",
          "data": {
            "text/plain": [
              "array([[0.66973398]])"
            ]
          },
          "metadata": {},
          "execution_count": 34
        }
      ]
    },
    {
      "cell_type": "code",
      "source": [
        "reg.intercept_"
      ],
      "metadata": {
        "id": "C7qk0RA2GCUd",
        "colab": {
          "base_uri": "https://localhost:8080/"
        },
        "outputId": "c9be1191-6c1d-4fad-9a83-b45a7e1d5628"
      },
      "execution_count": null,
      "outputs": [
        {
          "output_type": "execute_result",
          "data": {
            "text/plain": [
              "array([0.64805086])"
            ]
          },
          "metadata": {},
          "execution_count": 35
        }
      ]
    },
    {
      "cell_type": "code",
      "source": [
        "# Training data\n",
        "plt.figure(figsize = (6, 4))\n",
        "plt.title('Linear Regression', fontsize = 16)\n",
        "plt.xlabel('X', fontsize = 12)\n",
        "plt.ylabel('Y', fontsize = 12)\n",
        "plt.plot(x, y, 'bo', label = \"Training data\")\n",
        "\n",
        "# to plot a straight line (fitted line)\n",
        "plt.plot(xp, reg.predict(xp), 'r', linewidth = 2, label = \"regression\")\n",
        "plt.legend(fontsize = 12)\n",
        "plt.axis('equal')\n",
        "plt.grid(alpha = 0.3)\n",
        "plt.show()\n",
        "\n"
      ],
      "metadata": {
        "colab": {
          "base_uri": "https://localhost:8080/",
          "height": 416
        },
        "id": "kQKxEey9GKOm",
        "outputId": "a65d11b2-03f0-4692-de80-a6dbcb6e7e08"
      },
      "execution_count": null,
      "outputs": [
        {
          "output_type": "display_data",
          "data": {
            "text/plain": [
              "<Figure size 600x400 with 1 Axes>"
            ],
            "image/png": "[encoded data removed]"
          },
          "metadata": {}
        }
      ]
    },
    {
      "cell_type": "markdown",
      "source": [
        "# Multivariate Linear Regression\n",
        "<br>\n",
        "\n",
        "## Linear Regression for Multivariate Data\n",
        "\n",
        "<br>\n",
        "$$ \\hat{y} = \\omega_0 + \\omega_{1}x_1 + \\omega_{2}x_2  $$\n",
        "<br>\n",
        "$$\\phi \\left(x^{(i)}\\right) = \\begin{bmatrix}1\\\\x^{(i)}_{1}\\\\x^{(i)}_{2} \\end{bmatrix}$$\n",
        "<br>"
      ],
      "metadata": {
        "id": "7sGpdvePrDGg"
      }
    },
    {
      "cell_type": "code",
      "source": [
        "# for 3D plot\n",
        "from mpl_toolkits.mplot3d import Axes3D\n",
        "\n",
        "n = 300\n",
        "x1 = np.random.randn(n, 1)\n",
        "x2 = np.random.randn(n, 1)\n",
        "\n",
        "y = 2 + 2*x1 + 2*x2   # y = w0 + w1*x1 + w2*x2\n",
        "\n",
        "fig = plt.figure(figsize = (8, 8))\n",
        "ax = fig.add_subplot(1, 1, 1, projection = '3d')\n",
        "ax.set_title('3D(x,y,z) Data', fontsize = 12)\n",
        "ax.set_xlabel('$X_1$', fontsize = 12)\n",
        "ax.set_ylabel('$X_2$', fontsize = 12)\n",
        "ax.set_zlabel('Y', fontsize = 12)\n",
        "#ax.scatter(x1, x2, y, marker = '.', label = 'Data')\n",
        "ax.scatter(x1, x2, y, marker = '.', color = 'b', label = 'Random Data')\n",
        "#ax.view_init(30,30)\n",
        "plt.legend(fontsize = 12)\n",
        "plt.show()"
      ],
      "metadata": {
        "id": "JXrie7wWL9bR"
      },
      "execution_count": null,
      "outputs": []
    },
    {
      "cell_type": "code",
      "source": [
        "A = np.hstack([np.ones((n, 1)), x1, x2])\n",
        "A = np.asmatrix(A)\n",
        "w = (A.T*A).I*A.T*y\n",
        "\n",
        "X1, X2 = np.meshgrid(np.arange(np.min(x1), np.max(x1), 0.5),\n",
        "                     np.arange(np.min(x2), np.max(x2), 0.5))\n",
        "YP = w[0,0] + w[1,0]*X1 + w[2,0]*X2\n",
        "\n",
        "fig = plt.figure(figsize = (8, 8))\n",
        "ax = fig.add_subplot(1, 1, 1, projection = '3d')\n",
        "ax.set_title('Regression', fontsize = 12)\n",
        "ax.set_xlabel('$X_1$', color = 'b', fontsize = 14)\n",
        "ax.set_ylabel('$X_2$', color = 'b', fontsize = 14)\n",
        "ax.set_zlabel('Y', fontsize = 14)\n",
        "ax.scatter(x1, x2, y, marker = '.', color = 'b', label = 'Data')\n",
        "ax.plot_wireframe(X1, X2, YP, color = 'r', alpha = 0.3, label = 'Regression Plane')\n",
        "#ax.view_init(30,30)\n",
        "plt.legend(fontsize = 12)\n",
        "plt.show()"
      ],
      "metadata": {
        "id": "X8uBpBDsMCLo"
      },
      "execution_count": null,
      "outputs": []
    },
    {
      "cell_type": "markdown",
      "source": [
        "# Nonlinear Regression\n",
        "\n",
        "<br>\n",
        "\n",
        "$$\n",
        "\\begin{align*}\n",
        "y &= \\omega_0 + \\omega_1 x + \\omega_2 x^2 + \\text{noise}\n",
        "\\end{align*}\n",
        "$$\n",
        "\n",
        "<br>\n",
        "\n",
        "$$\\\\x =  \\begin{bmatrix}1\\\\x_{i}\\\\x_{i}^2 \\end{bmatrix}$$\n",
        "\n",
        "<br>\n",
        "\n",
        "$$\\\\A = \\begin{bmatrix}1 & x_{1} & x_{1}^2 \\\\ 1 &  x_{2} & x_{2}^2 \\\\ \\vdots \\\\ 1 &  x_{m} & x_{m}^2\\end{bmatrix} \\quad \\implies \\quad \\hat{y} = \\begin{bmatrix}\\hat{y}_1 \\\\\\hat{y}_2 \\\\\\vdots \\\\\\hat{y}_m\\end{bmatrix}=\\ A\\omega$$\n",
        "\n",
        "\n",
        "<br>\n",
        "\n",
        "$$\\implies \\omega^{*} = (\\ A^T \\ A)^{-1} \\ A^T y$$\n",
        "\n",
        "<br>"
      ],
      "metadata": {
        "id": "eQrvAfJ8uIwm"
      }
    },
    {
      "cell_type": "code",
      "source": [
        "# Nonlinear Regression\n",
        "n = 100\n",
        "x = -5 + 15*np.random.rand(n, 1)\n",
        "noise = 10*np.random.randn(n, 1)\n",
        "\n",
        "y = 10 + 1*x + 2*x**2 + noise   # y = w0 + w1*x + w2*x^2 + noise\n",
        "\n",
        "plt.figure(figsize = (6, 4))\n",
        "plt.title('Training data', fontsize = 16)\n",
        "plt.xlabel('X')\n",
        "plt.ylabel('Y')\n",
        "#plt.plot(x, y, 'o', markersize = 4, alpha = 0.3)\n",
        "plt.plot(x, y, 'bo', markersize = 3, label = \"data\")\n",
        "plt.grid(alpha = 0.3)\n",
        "plt.show()"
      ],
      "metadata": {
        "id": "Pzndf-vHudDx",
        "colab": {
          "base_uri": "https://localhost:8080/",
          "height": 412
        },
        "outputId": "c3501ee7-584f-4c04-e0f2-630a97f7707b"
      },
      "execution_count": null,
      "outputs": [
        {
          "output_type": "display_data",
          "data": {
            "text/plain": [
              "<Figure size 600x400 with 1 Axes>"
            ],
            "image/png": "[encoded data removed]"
          },
          "metadata": {}
        }
      ]
    },
    {
      "cell_type": "code",
      "source": [
        "A = np.hstack([x**0, x, x**2])\n",
        "A = np.asmatrix(A)\n",
        "\n",
        "w = (A.T*A).I*A.T*y\n",
        "print('omega:\\n', w)"
      ],
      "metadata": {
        "id": "Js13Vk6dwlyu",
        "colab": {
          "base_uri": "https://localhost:8080/"
        },
        "outputId": "133c4660-5325-4bd2-b973-012ac846cd45"
      },
      "execution_count": null,
      "outputs": [
        {
          "output_type": "stream",
          "name": "stdout",
          "text": [
            "omega:\n",
            " [[9.3152104 ]\n",
            " [0.72090039]\n",
            " [2.00612146]]\n"
          ]
        }
      ]
    },
    {
      "cell_type": "code",
      "source": [
        "xp = np.linspace(np.min(x), np.max(x))\n",
        "yp = w[0,0] + w[1,0]*xp + w[2,0]*xp**2\n",
        "\n",
        "\n",
        "plt.figure(figsize = (6, 4))\n",
        "plt.title('Nonlinear Regression', fontsize = 16)\n",
        "#plt.plot(x, y, 'o', markersize = 4, alpha = 0.3)\n",
        "plt.plot(x, y, 'bo', markersize = 3, label = \"data\")\n",
        "plt.xlabel('X', fontsize = 12)\n",
        "plt.ylabel('Y', fontsize = 12)\n",
        "plt.plot(xp, yp, 'r', linewidth = 2, label = 'Non linear(Estimated)')\n",
        "plt.legend()\n",
        "plt.grid(alpha = 0.3)\n",
        "plt.show()\n"
      ],
      "metadata": {
        "id": "HrRIYW9HxSJR",
        "colab": {
          "base_uri": "https://localhost:8080/",
          "height": 416
        },
        "outputId": "e4191c13-72e0-4b08-838f-356f66c4ec72"
      },
      "execution_count": null,
      "outputs": [
        {
          "output_type": "display_data",
          "data": {
            "text/plain": [
              "<Figure size 600x400 with 1 Axes>"
            ],
            "image/png": "[encoded data removed]"
          },
          "metadata": {}
        }
      ]
    },
    {
      "cell_type": "markdown",
      "source": [
        "# Overfitting vs. Underfitting\n"
      ],
      "metadata": {
        "id": "o_1odJn9BP9m"
      }
    },
    {
      "cell_type": "markdown",
      "source": [
        "## Nonlinear Regression with 10 Data Points"
      ],
      "metadata": {
        "id": "BUpSTkguEJ_W"
      }
    },
    {
      "cell_type": "code",
      "source": [
        "import numpy as np\n",
        "import matplotlib.pyplot as plt\n",
        "%matplotlib inline\n",
        "\n",
        "# 10 data points\n",
        "n = 10\n",
        "x = np.linspace(-4.5, 4.5, 10).reshape(-1, 1)\n",
        "y = np.array([0.9819, 0.7973, 1.9737, 0.1838, 1.3180, -0.8361, -0.6591, -2.4701, -2.8122, -6.2512]).reshape(-1, 1)\n",
        "\n",
        "plt.figure(figsize = (6, 4))\n",
        "plt.title('Linear Regression', fontsize = 16)\n",
        "#plt.plot(x, y, 'o', alpha = 0.5)\n",
        "plt.plot(x, y, 'bo', markersize = 4, label = \"data\")\n",
        "plt.legend()\n",
        "plt.xlabel('X')\n",
        "plt.ylabel('Y')\n",
        "plt.grid(alpha = 0.3)\n",
        "plt.axis('equal')\n",
        "plt.show()"
      ],
      "metadata": {
        "id": "2LnvTWY_EKSu"
      },
      "execution_count": null,
      "outputs": []
    },
    {
      "cell_type": "markdown",
      "source": [
        "<br>\n",
        "\n",
        "__Degree 1 (Linear Regression):__\n",
        "\n",
        "- The model underfits the data\n",
        "- It fails to capture the non-linear pattern and results in a straight-line fit.\n",
        "\n",
        "<br>"
      ],
      "metadata": {
        "id": "Ntqp0p5uGJ2c"
      }
    },
    {
      "cell_type": "code",
      "source": [
        "A = np.hstack([x**0, x])\n",
        "A = np.asmatrix(A)\n",
        "\n",
        "w = (A.T*A).I*A.T*y\n",
        "print(w)"
      ],
      "metadata": {
        "colab": {
          "base_uri": "https://localhost:8080/"
        },
        "id": "rcU-9zDzEZfd",
        "outputId": "78c315b7-18b0-458d-b9d6-2c547a1fd54f"
      },
      "execution_count": 10,
      "outputs": [
        {
          "output_type": "stream",
          "name": "stdout",
          "text": [
            "[[-0.7774    ]\n",
            " [-0.71070424]]\n"
          ]
        }
      ]
    },
    {
      "cell_type": "code",
      "source": [
        "# to plot\n",
        "xp = np.arange(-4.5, 4.5, 0.01).reshape(-1, 1)\n",
        "yp = w[0,0] + w[1,0]*xp\n",
        "\n",
        "plt.figure(figsize = (6, 4))\n",
        "plt.plot(x, y, 'bo', markersize = 4, label = \"data\")\n",
        "plt.plot(xp[:,0], yp[:,0], 'r', linewidth = 2, label = 'Linear')\n",
        "plt.title('Linear Regression')\n",
        "plt.xlabel('X')\n",
        "plt.ylabel('Y')\n",
        "plt.legend()\n",
        "plt.grid(alpha = 0.3)\n",
        "plt.axis('equal')\n",
        "plt.show()\n"
      ],
      "metadata": {
        "id": "Q2e85aTiFqoX"
      },
      "execution_count": null,
      "outputs": []
    },
    {
      "cell_type": "markdown",
      "source": [
        "<br>\n",
        "\n",
        "__Degree 2 (Linear Regression):__\n",
        "\n",
        "- The model underfits the data\n",
        "- It fails to capture the non-linear pattern and results in a straight-line fit.\n",
        "\n",
        "<br>"
      ],
      "metadata": {
        "id": "_UMA3P80GvSB"
      }
    },
    {
      "cell_type": "code",
      "source": [
        "A = np.hstack([x**0, x,  x**2])\n",
        "A = np.asmatrix(A)\n",
        "\n",
        "w = (A.T*A).I*A.T*y\n",
        "print(w)"
      ],
      "metadata": {
        "colab": {
          "base_uri": "https://localhost:8080/"
        },
        "id": "l0oKFpAJGvq_",
        "outputId": "b9ae8609-812b-4394-cf0e-0bb81e2ba22a"
      },
      "execution_count": 12,
      "outputs": [
        {
          "output_type": "stream",
          "name": "stdout",
          "text": [
            "[[ 0.33669062]\n",
            " [-0.71070424]\n",
            " [-0.13504129]]\n"
          ]
        }
      ]
    },
    {
      "cell_type": "code",
      "source": [
        "# to plot\n",
        "xp = np.arange(-4.5, 4.5, 0.01).reshape(-1, 1)\n",
        "yp = w[0,0] + w[1,0]*xp + w[2,0]*xp**2\n",
        "\n",
        "plt.figure(figsize = (6, 4))\n",
        "plt.plot(x, y, 'bo', markersize = 4, label = \"data\")\n",
        "plt.plot(xp[:,0], yp[:,0], 'r', linewidth = 2, label = '2nd degree')\n",
        "plt.title('Nonlinear Regression')\n",
        "plt.xlabel('X')\n",
        "plt.ylabel('Y')\n",
        "plt.legend()\n",
        "plt.grid(alpha = 0.3)\n",
        "plt.axis('equal')\n",
        "plt.show()"
      ],
      "metadata": {
        "id": "tYGCbhMlHARL"
      },
      "execution_count": null,
      "outputs": []
    },
    {
      "cell_type": "markdown",
      "source": [
        "<br>\n",
        "\n",
        "__Degree 3 (Cubic Polynomial):__\n",
        "\n",
        "- The model fits the data well\n",
        "- It captures the underlying trend without being too flexible or too rigid.\n",
        "\n",
        "<br>"
      ],
      "metadata": {
        "id": "xGy3olRxGWtb"
      }
    },
    {
      "cell_type": "code",
      "source": [
        "A = np.hstack([x**0, x, x**2, x**3])\n",
        "A = np.asmatrix(A)\n",
        "\n",
        "w = (A.T*A).I*A.T*y\n",
        "print(w)"
      ],
      "metadata": {
        "id": "EYhyRBnhFqva"
      },
      "execution_count": null,
      "outputs": []
    },
    {
      "cell_type": "code",
      "source": [
        "# to plot\n",
        "xp = np.arange(-4.5, 4.5, 0.01).reshape(-1, 1)\n",
        "yp = w[0,0] + w[1,0]*xp + w[2,0]*xp**2 + w[3,0]*xp**3\n",
        "\n",
        "plt.figure(figsize = (6, 4))\n",
        "plt.plot(x, y, 'bo', markersize = 4, label = \"data\")\n",
        "plt.plot(xp[:,0], yp[:,0], 'r', linewidth = 2, label = '3rd degree')\n",
        "plt.title('Nonlinear Regression')\n",
        "plt.xlabel('X')\n",
        "plt.ylabel('Y')\n",
        "plt.legend()\n",
        "plt.grid(alpha = 0.3)\n",
        "plt.axis('equal')\n",
        "plt.show()"
      ],
      "metadata": {
        "id": "3uwEaSVIGNQa"
      },
      "execution_count": null,
      "outputs": []
    },
    {
      "cell_type": "markdown",
      "source": [
        "<br>\n",
        "\n",
        "__Degree 9 (High-Degree Polynomial):__\n",
        "\n",
        "- The model overfits the data\n",
        "- It closely follows every data point, including noise, resulting in a wavy curve that fails to generalize well to unseen data.\n",
        "\n",
        "<br>"
      ],
      "metadata": {
        "id": "PI1CbqIbJuSr"
      }
    },
    {
      "cell_type": "code",
      "source": [
        "d = 10   # d = (n-1)-th degree polynomials\n",
        "A = np.hstack([x**i for i in range(d)])\n",
        "A = np.asmatrix(A)\n",
        "\n",
        "w = (A.T*A).I*A.T*y\n",
        "\n",
        "# to plot\n",
        "xp = np.arange(-4.5, 4.5, 0.01).reshape(-1, 1)\n",
        "polybasis = np.hstack([xp**i for i in range(d)])\n",
        "polybasis = np.asmatrix(polybasis)\n",
        "\n",
        "yp = polybasis*w\n",
        "\n",
        "plt.figure(figsize = (12, 8))\n",
        "plt.plot(x, y, 'bo', markersize = 4, label = \"data\")\n",
        "plt.plot(xp[:,0], yp[:,0], 'r', linewidth = 2, label = '{}-th degree'.format(d-1))\n",
        "plt.title('Nonlinear Regression')\n",
        "plt.xlabel('X')\n",
        "plt.ylabel('Y')\n",
        "plt.legend()\n",
        "plt.grid(alpha = 0.3)\n",
        "plt.axis('equal')\n",
        "plt.show()"
      ],
      "metadata": {
        "id": "Wicqb3bKGNaq"
      },
      "execution_count": null,
      "outputs": []
    },
    {
      "cell_type": "code",
      "source": [
        "d = [1, 3, 6, 9]\n",
        "RSS = []  #  Residual Sum of Squares\n",
        "\n",
        "plt.figure(figsize = (8, 6))\n",
        "plt.suptitle('Nonlinear Regression', fontsize = 12)\n",
        "\n",
        "for k in range(4):\n",
        "    A = np.hstack([x**i for i in range(d[k]+1)])\n",
        "    polybasis = np.hstack([xp**i for i in range(d[k]+1)])\n",
        "\n",
        "    A = np.asmatrix(A)\n",
        "    polybasis = np.asmatrix(polybasis)\n",
        "\n",
        "    w = (A.T*A).I*A.T*y\n",
        "    yp = polybasis*w\n",
        "\n",
        "    RSS.append(np.linalg.norm(y - A*w, 2)**2)  # Square of L2 norm\n",
        "\n",
        "    plt.subplot(2, 2, k+1)\n",
        "    plt.plot(x, y, 'bo', alpha = 0.5)\n",
        "    plt.plot(xp, yp, 'r', linewidth = 2)\n",
        "    plt.axis([-5, 5, -12, 6])\n",
        "    plt.title('degree = {}'.format(d[k]))\n",
        "    plt.grid(alpha=0.3)\n",
        "\n",
        "plt.show()"
      ],
      "metadata": {
        "id": "Q5l8r5qxzJMm"
      },
      "execution_count": null,
      "outputs": []
    },
    {
      "cell_type": "markdown",
      "source": [
        "<br>\n",
        "\n",
        "# Loss : Residual Sum of Squares(RSS), SSE\n",
        "\n",
        "$$ \\sum\\limits_{i = 1}^{m} {\\lVert\\ e_{i} \\lVert\\ ^2} = \\sum\\limits_{i = 1}^{m} \\left(\\hat{y}_{i} - y_{i} \\right)^2$$\n",
        "<br>"
      ],
      "metadata": {
        "id": "wCXAMuD-2yoh"
      }
    },
    {
      "cell_type": "code",
      "source": [
        "# Residual Sum of Squares\n",
        "plt.figure(figsize = (6, 4))\n",
        "plt.stem(d, RSS, label = 'RSS')\n",
        "plt.title('Residual Sum of Squares', fontsize = 12)\n",
        "plt.xlabel('degree', fontsize = 12)\n",
        "plt.ylabel('RSS', fontsize = 12)\n",
        "plt.legend(fontsize = 12)\n",
        "plt.grid(alpha = 0.3)\n",
        "plt.show()"
      ],
      "metadata": {
        "colab": {
          "base_uri": "https://localhost:8080/",
          "height": 414
        },
        "id": "IYkL-HrR0H01",
        "outputId": "64c6d0cb-84aa-431f-bf94-53446c41691c"
      },
      "execution_count": null,
      "outputs": [
        {
          "output_type": "display_data",
          "data": {
            "text/plain": [
              "<Figure size 600x400 with 1 Axes>"
            ],
            "image/png": "[encoded data removed]"
          },
          "metadata": {}
        }
      ]
    },
    {
      "cell_type": "markdown",
      "source": [
        "\n",
        "# 정규화(Regularization) : Overfitting 해결 방안\n"
      ],
      "metadata": {
        "id": "8Xqsej-dP9Ps"
      }
    },
    {
      "cell_type": "markdown",
      "source": [
        "## L2 regularization (Ridge Regularization or weight decay)\n",
        "It involves adding a penalty equal to the sum of the squared weights to the loss function.\n",
        "<br>\n",
        "\n",
        "- magnitude of coefficients\n",
        "\n",
        "<br>\n",
        "\n",
        "$$\n",
        "\\begin{align*}\n",
        "\\text{Total cost } = \\;&\\underbrace{\\text{measure of fit}}_{RSS(\\omega)}  + \\;\\lambda \\cdot \\underbrace{\\text{measure of magnitude of coefficients}}_{\\lambda \\cdot \\lVert \\omega \\rVert_2^2} \\\\ \\\\\n",
        "\\implies &\\min\\; \\lVert \\ A \\omega - y \\rVert_2^2 + \\lambda \\lVert \\omega \\rVert_2^2\n",
        "\\end{align*}\n",
        "$$\n",
        "<br>\n",
        "$\\quad\\;$where $ RSS(\\omega) = \\lVert \\ A\\omega - y \\rVert^2_2 $, ( = Rresidual Sum of Squares) and $\\lambda$ is a tuning parameter to be determined separately\n",
        "\n",
        "<br>\n",
        "\n",
        "- the second term, $\\lambda \\cdot \\lVert \\omega \\rVert_2^2$, called a shrinkage penalty, is small when $\\omega_1, \\cdots,\\omega_d$ are close to zeros, and so it has the effect of shrinking the estimates of $\\omega_j$ towards zero\n",
        "\n",
        "\n",
        "- The tuning parameter $\\lambda$ : 개발자가 수정하는 하이퍼 파라미터\n",
        "\n",
        "\n",
        "- known as a _ridge regression_\n"
      ],
      "metadata": {
        "id": "VSp2rTjnThXJ"
      }
    },
    {
      "cell_type": "markdown",
      "source": [
        "<br>\n",
        "\n",
        "__*  RBF functions__\n",
        "\n",
        "A Radial Basis Function (RBF) is a type of basis function whose value depends only on the distance between the input and a fixed center point.   It is useful for capturing localized patterns\n",
        "\n",
        "- Gaussian RBF (most commonly used) with bandwidth $\\sigma$ and $k$ RBF centers $\\mu_i \\in \\mathbb{R}^n$\n",
        "\n",
        "<br>\n",
        "$$ b_i(x) =  \\exp \\left( - \\frac{\\lVert x-\\mu_i \\rVert^2}{2\\sigma^2}\\right) $$\n"
      ],
      "metadata": {
        "id": "ubRm68Quijx-"
      }
    },
    {
      "cell_type": "markdown",
      "source": [
        "\n",
        "__Example__:\n",
        "\n",
        "$$\\min\\; \\lVert \\ A\\omega - y \\rVert_2^2$$"
      ],
      "metadata": {
        "id": "rS7gSrY3jjoh"
      }
    },
    {
      "cell_type": "code",
      "source": [
        "import cvxpy as cvx\n",
        "\n",
        "d = 10\n",
        "u = np.linspace(-4.5, 4.5, d)\n",
        "\n",
        "sigma = 1\n",
        "\n",
        "A = np.hstack([np.exp(-(x-u[i])**2/(2*sigma**2)) for i in range(d)])\n",
        "rbfbasis = np.hstack([np.exp(-(xp-u[i])**2/(2*sigma**2)) for i in range(d)])\n",
        "\n",
        "A = np.asmatrix(A)\n",
        "rbfbasis = np.asmatrix(rbfbasis)\n",
        "\n",
        "w = cvx.Variable([d, 1])\n",
        "obj = cvx.Minimize(cvx.sum_squares(A@w - y))\n",
        "prob = cvx.Problem(obj).solve()\n",
        "\n",
        "yp = rbfbasis*w.value\n",
        "\n",
        "plt.figure(figsize = (6, 4))\n",
        "plt.plot(x, y, 'bo', markersize = 4, label = \"data\")\n",
        "plt.plot(xp, yp, 'r', linewidth = 2)\n",
        "plt.xlabel('X')\n",
        "plt.ylabel('Y')\n",
        "plt.legend()\n",
        "plt.axis([-5, 5, -12, 6])\n",
        "plt.grid(alpha = 0.3)\n",
        "plt.axis('equal')\n",
        "plt.show()"
      ],
      "metadata": {
        "colab": {
          "base_uri": "https://localhost:8080/",
          "height": 388
        },
        "id": "t6pJxF--P8ye",
        "outputId": "bc299194-241d-443e-ef23-10ec0e7618a8"
      },
      "execution_count": null,
      "outputs": [
        {
          "output_type": "display_data",
          "data": {
            "text/plain": [
              "<Figure size 600x400 with 1 Axes>"
            ],
            "image/png": "[encoded data removed]"
          },
          "metadata": {}
        }
      ]
    },
    {
      "cell_type": "code",
      "source": [
        "plt.figure(figsize = (6, 4))\n",
        "plt.title(r'Ridge: magnitude of $\\omega$', fontsize = 12)\n",
        "plt.xlabel(r'$\\omega$', fontsize = 12)\n",
        "plt.ylabel('magnitude', fontsize = 12)\n",
        "plt.stem(np.linspace(1, 10, 10).reshape(-1, 1), w.value)\n",
        "plt.xlim([0.5, 10.5])\n",
        "# plt.ylim([-5, 5])\n",
        "plt.grid(alpha = 0.3)\n",
        "plt.show()"
      ],
      "metadata": {
        "colab": {
          "base_uri": "https://localhost:8080/",
          "height": 416
        },
        "id": "Gto596DVWuCh",
        "outputId": "61936e52-8563-40f6-9113-55945c6e7ca4"
      },
      "execution_count": null,
      "outputs": [
        {
          "output_type": "display_data",
          "data": {
            "text/plain": [
              "<Figure size 600x400 with 1 Axes>"
            ],
            "image/png": "[encoded data removed]"
          },
          "metadata": {}
        }
      ]
    },
    {
      "cell_type": "markdown",
      "source": [
        "<br>\n",
        "\n",
        "## Coefficients $\\omega$  regularization\n",
        "\n",
        "<br>\n",
        "\n",
        "$$\\min\\; \\lVert \\ A \\omega - y \\rVert_2^2 + \\lambda \\lVert \\omega \\rVert_2^2$$\n",
        "\n",
        "<br>"
      ],
      "metadata": {
        "id": "8ZyXHXNKk2oP"
      }
    },
    {
      "cell_type": "code",
      "source": [
        "# ridge regression\n",
        "\n",
        "lamb = 0.1\n",
        "\n",
        "w = cvx.Variable([d, 1])\n",
        "obj = cvx.Minimize(cvx.sum_squares(A@w - y) + lamb*cvx.sum_squares(w))\n",
        "prob = cvx.Problem(obj).solve()\n",
        "\n",
        "yp = rbfbasis*w.value\n",
        "\n",
        "plt.figure(figsize = (6, 4))\n",
        "plt.title('Ridge Regularization (L2)', fontsize = 12)\n",
        "plt.plot(x, y, 'bo', markersize = 4, label = \"data\")\n",
        "plt.plot(xp, yp, 'r', linewidth = 2, label = 'Ridge')\n",
        "plt.xlabel('X')\n",
        "plt.ylabel('Y')\n",
        "plt.legend()\n",
        "plt.axis([-5, 5, -12, 6])\n",
        "plt.grid(alpha = 0.3)\n",
        "plt.axis('equal')\n",
        "plt.show()"
      ],
      "metadata": {
        "colab": {
          "base_uri": "https://localhost:8080/",
          "height": 410
        },
        "id": "RwdJBtoyku6k",
        "outputId": "f4051a99-4bed-4483-9940-425c7242ff10"
      },
      "execution_count": null,
      "outputs": [
        {
          "output_type": "display_data",
          "data": {
            "text/plain": [
              "<Figure size 600x400 with 1 Axes>"
            ],
            "image/png": "[encoded data removed]"
          },
          "metadata": {}
        }
      ]
    },
    {
      "cell_type": "markdown",
      "source": [
        "<br>\n",
        "\n",
        "Plot the values of all the coefficients.\n",
        "\n",
        "<br>"
      ],
      "metadata": {
        "id": "ZpRu7S-ZmD4Y"
      }
    },
    {
      "cell_type": "code",
      "source": [
        "# Regulization (= ridge nonlinear regression) encourages small weights, but not exactly 0\n",
        "\n",
        "plt.figure(figsize = (6, 4))\n",
        "plt.title(r'Ridge: magnitude of $\\omega$', fontsize = 12)\n",
        "plt.xlabel(r'$\\omega$', fontsize = 12)\n",
        "plt.ylabel('magnitude', fontsize = 12)\n",
        "plt.stem(np.linspace(1, 10, 10).reshape(-1, 1), w.value)\n",
        "plt.xlim([0.5, 10.5])\n",
        "plt.ylim([-5, 5])\n",
        "plt.grid(alpha = 0.3)\n",
        "plt.show()"
      ],
      "metadata": {
        "colab": {
          "base_uri": "https://localhost:8080/",
          "height": 416
        },
        "id": "DLXnZkJZlFEj",
        "outputId": "e29aab6a-a58b-4d1b-90f2-f0af608bc577"
      },
      "execution_count": null,
      "outputs": [
        {
          "output_type": "display_data",
          "data": {
            "text/plain": [
              "<Figure size 600x400 with 1 Axes>"
            ],
            "image/png": "[encoded data removed]"
          },
          "metadata": {}
        }
      ]
    },
    {
      "cell_type": "markdown",
      "source": [
        "## Sparsity for Feature Selection using LASSO\n",
        "\n",
        "$$\n",
        "\\begin{align*}\n",
        "\\text{Total cost } = \\;&\\underbrace{\\text{measure of fit}}_{RSS(\\omega)}  + \\;\\lambda \\cdot \\underbrace{\\text{measure of magnitude of coefficients}}_{\\lambda \\cdot \\lVert \\omega \\rVert_1} \\\\ \\\\\n",
        "\\implies &\\min\\; \\lVert \\ A \\omega - y \\rVert_2^2 + \\lambda \\lVert \\omega \\rVert_1\n",
        "\\end{align*}$$\n"
      ],
      "metadata": {
        "id": "3AaQgax-m3aH"
      }
    },
    {
      "cell_type": "code",
      "source": [
        "# LASSO regression\n",
        "\n",
        "lamb = 2\n",
        "w = cvx.Variable([d, 1])\n",
        "obj = cvx.Minimize(cvx.sum_squares(A@w - y) + lamb*cvx.norm(w, 1))\n",
        "prob = cvx.Problem(obj).solve()\n",
        "\n",
        "yp = rbfbasis*w.value\n",
        "\n",
        "plt.figure(figsize = (6, 4))\n",
        "plt.title('LASSO Regularization (L1)', fontsize = 12)\n",
        "plt.plot(x, y, 'bo', markersize = 4, label = \"data\")\n",
        "plt.plot(xp, yp, 'r', linewidth = 2, label = 'LASSO')\n",
        "plt.xlabel('X')\n",
        "plt.ylabel('Y')\n",
        "plt.legend()\n",
        "plt.axis([-5, 5, -12, 6])\n",
        "plt.grid(alpha = 0.3)\n",
        "plt.axis('equal')\n",
        "plt.show()"
      ],
      "metadata": {
        "id": "L_90KbDqmHg3"
      },
      "execution_count": null,
      "outputs": []
    },
    {
      "cell_type": "markdown",
      "source": [
        "<br>\n",
        "\n",
        "Plot the values of all the coefficients.\n",
        "\n",
        "<br>"
      ],
      "metadata": {
        "id": "a7Cw1XOdogmi"
      }
    },
    {
      "cell_type": "code",
      "source": [
        "# Regulization (= Lasso nonlinear regression) encourages zero weights\n",
        "\n",
        "plt.figure(figsize = (6, 4))\n",
        "plt.title(r'LASSO: magnitude of $\\omega$', fontsize = 12)\n",
        "plt.xlabel(r'$\\omega$')\n",
        "plt.ylabel('magnitude')\n",
        "plt.stem(np.arange(1,11), w.value)\n",
        "plt.xlim([0.5, 10.5])\n",
        "plt.ylim([-6, 2])\n",
        "plt.grid(alpha = 0.3)\n",
        "plt.show()\n",
        "\n"
      ],
      "metadata": {
        "id": "Zl_VkeL4ohw9"
      },
      "execution_count": null,
      "outputs": []
    },
    {
      "cell_type": "markdown",
      "source": [
        "<br>\n",
        "\n",
        "__Sparsity and Feature Selection__:\n",
        "\n",
        "The L1 penalty in LASSO (Least Absolute Shrinkage and Selection Operator) encourages sparsity in the coefficient estimates, meaning it drives some coefficients to be exactly zero. This property is particularly useful for feature selection, as it allows the model to identify and retain only the most relevant predictors, simplifying the model and potentially improving interpretability.\n",
        "\n",
        "<br>"
      ],
      "metadata": {
        "id": "ZT081yeBqkZF"
      }
    },
    {
      "cell_type": "code",
      "source": [
        "# reduced order model\n",
        "# we will use only w2, w3, w8, w10\n",
        "\n",
        "d = 4\n",
        "u = np.array([-3.5, -2.5, 2.5, 4.5])\n",
        "\n",
        "sigma = 1\n",
        "\n",
        "A = np.hstack([np.exp(-(x-u[i])**2/(2*sigma**2)) for i in range(d)])\n",
        "rbfbasis = np.hstack([np.exp(-(xp-u[i])**2/(2*sigma**2)) for i in range(d)])\n",
        "\n",
        "A = np.asmatrix(A)\n",
        "rbfbasis = np.asmatrix(rbfbasis)\n",
        "\n",
        "w = cvx.Variable([d, 1])\n",
        "obj = cvx.Minimize(cvx.norm(A@w - y, 2))\n",
        "prob = cvx.Problem(obj).solve()\n",
        "\n",
        "yp = rbfbasis*w.value\n",
        "\n",
        "plt.figure(figsize = (6, 4))\n",
        "plt.title('Feature selected LASSO Regularization (L1)', fontsize = 12)\n",
        "plt.plot(x, y, 'bo', markersize = 4, label = \"data\")\n",
        "plt.plot(xp, yp, 'r', linewidth = 2, label = 'LASSO')\n",
        "plt.xlabel('X')\n",
        "plt.ylabel('Y')\n",
        "plt.legend()\n",
        "plt.axis([-5, 5, -12, 6])\n",
        "plt.grid(alpha = 0.3)\n",
        "plt.axis('equal')\n",
        "plt.show()"
      ],
      "metadata": {
        "id": "OPfzSGHCqluB"
      },
      "execution_count": null,
      "outputs": []
    },
    {
      "cell_type": "markdown",
      "source": [
        "# Overfitting vs. Underfitting (scikit-learn)\n",
        "\n",
        "https://scikit-learn.org/stable/auto_examples/model_selection/plot_underfitting_overfitting.html"
      ],
      "metadata": {
        "id": "2Rdna41iFSZS"
      }
    },
    {
      "cell_type": "code",
      "source": [
        "# Authors: The scikit-learn developers\n",
        "# SPDX-License-Identifier: BSD-3-Clause\n",
        "\n",
        "import matplotlib.pyplot as plt\n",
        "import numpy as np\n",
        "\n",
        "from sklearn.linear_model import LinearRegression\n",
        "from sklearn.model_selection import cross_val_score\n",
        "from sklearn.pipeline import Pipeline\n",
        "from sklearn.preprocessing import PolynomialFeatures\n",
        "\n",
        "\n",
        "def true_fun(X):\n",
        "    return np.cos(1.5 * np.pi * X)\n",
        "\n",
        "\n",
        "np.random.seed(0)\n",
        "\n",
        "n_samples = 30\n",
        "degrees = [1, 4, 15]\n",
        "\n",
        "X = np.sort(np.random.rand(n_samples))\n",
        "y = true_fun(X) + np.random.randn(n_samples) * 0.1\n",
        "\n",
        "plt.figure(figsize=(14, 5))\n",
        "for i in range(len(degrees)):\n",
        "    ax = plt.subplot(1, len(degrees), i + 1)\n",
        "    plt.setp(ax, xticks=(), yticks=())\n",
        "\n",
        "    polynomial_features = PolynomialFeatures(degree=degrees[i], include_bias=False)\n",
        "    linear_regression = LinearRegression()\n",
        "    pipeline = Pipeline(\n",
        "        [\n",
        "            (\"polynomial_features\", polynomial_features),\n",
        "            (\"linear_regression\", linear_regression),\n",
        "        ]\n",
        "    )\n",
        "    pipeline.fit(X[:, np.newaxis], y)\n",
        "\n",
        "    # Evaluate the models using crossvalidation\n",
        "    scores = cross_val_score(\n",
        "        pipeline, X[:, np.newaxis], y, scoring=\"neg_mean_squared_error\", cv=10\n",
        "    )\n",
        "\n",
        "    X_test = np.linspace(0, 1, 100)\n",
        "    plt.plot(X_test, pipeline.predict(X_test[:, np.newaxis]), label=\"Model\")\n",
        "    plt.plot(X_test, true_fun(X_test), label=\"True function\")\n",
        "    plt.scatter(X, y, edgecolor=\"b\", s=20, label=\"Samples\")\n",
        "    plt.xlabel(\"x\")\n",
        "    plt.ylabel(\"y\")\n",
        "    plt.xlim((0, 1))\n",
        "    plt.ylim((-2, 2))\n",
        "    plt.legend(loc=\"best\")\n",
        "    plt.title(\n",
        "        \"Degree {}\\nMSE = {:.2e}(+/- {:.2e})\".format(\n",
        "            degrees[i], -scores.mean(), scores.std()\n",
        "        )\n",
        "    )\n",
        "plt.show()"
      ],
      "metadata": {
        "id": "kkTQCGuPBPgB"
      },
      "execution_count": null,
      "outputs": []
    },
    {
      "cell_type": "code",
      "source": [],
      "metadata": {
        "id": "Nu1AM5GxlVZu"
      },
      "execution_count": null,
      "outputs": []
    },
    {
      "cell_type": "markdown",
      "source": [
        "#Mnist Data (sklearn 이용)"
      ],
      "metadata": {
        "id": "Lk36-qbrAmES"
      }
    },
    {
      "cell_type": "code",
      "source": [
        "import numpy as np\n",
        "import matplotlib.pyplot as plt\n",
        "\n",
        "from sklearn import datasets, metrics\n",
        "from sklearn.model_selection import train_test_split\n"
      ],
      "metadata": {
        "id": "9GQQFVOF_7ne"
      },
      "execution_count": 23,
      "outputs": []
    },
    {
      "cell_type": "code",
      "source": [
        "digits = datasets.load_digits()   # 간략한 Mnist data\n",
        "plt.imshow(digits.images[0], cmap=plt.cm.gray_r, interpolation='nearest')"
      ],
      "metadata": {
        "id": "22rQb4_qALOw"
      },
      "execution_count": null,
      "outputs": []
    },
    {
      "cell_type": "code",
      "source": [
        "digits"
      ],
      "metadata": {
        "id": "V98MLeDhD4B7"
      },
      "execution_count": null,
      "outputs": []
    },
    {
      "cell_type": "code",
      "source": [
        "n_samples = len(digits.images)\n",
        "data = digits.images.reshape((n_samples, -1))\n",
        "data"
      ],
      "metadata": {
        "id": "MxCj2jufAOsl"
      },
      "execution_count": null,
      "outputs": []
    },
    {
      "cell_type": "code",
      "source": [
        "from sklearn.neighbors import KNeighborsClassifier\n",
        "\n",
        "knn = KNeighborsClassifier(n_neighbors=6)\n",
        "\n",
        "X_train, X_test, y_train, y_test = train_test_split(\n",
        "    data, digits.target, test_size=0.2)"
      ],
      "metadata": {
        "id": "6cWEF7HRBx5x"
      },
      "execution_count": 27,
      "outputs": []
    },
    {
      "cell_type": "code",
      "source": [
        "knn"
      ],
      "metadata": {
        "id": "9mVdbwjMCXrj"
      },
      "execution_count": null,
      "outputs": []
    },
    {
      "cell_type": "code",
      "source": [
        "X_train"
      ],
      "metadata": {
        "id": "R3X5nN6OCZoy"
      },
      "execution_count": null,
      "outputs": []
    },
    {
      "cell_type": "code",
      "source": [
        "X_test"
      ],
      "metadata": {
        "id": "vipnpMfLCdlW"
      },
      "execution_count": null,
      "outputs": []
    },
    {
      "cell_type": "code",
      "source": [
        "y_train"
      ],
      "metadata": {
        "id": "hj-UHnjuCgov"
      },
      "execution_count": null,
      "outputs": []
    },
    {
      "cell_type": "code",
      "source": [
        "y_test"
      ],
      "metadata": {
        "id": "2tMauRknCmWW"
      },
      "execution_count": null,
      "outputs": []
    },
    {
      "cell_type": "code",
      "source": [
        "knn.fit(X_train, y_train)"
      ],
      "metadata": {
        "id": "4O4pASxkC22k"
      },
      "execution_count": null,
      "outputs": []
    },
    {
      "cell_type": "code",
      "source": [
        "y_pred = knn.predict(X_test)"
      ],
      "metadata": {
        "id": "TpgPo0qwC63p"
      },
      "execution_count": 35,
      "outputs": []
    },
    {
      "cell_type": "code",
      "source": [
        "scores = metrics.accuracy_score(y_test, y_pred)\n",
        "print(scores)"
      ],
      "metadata": {
        "id": "ahqSH--8DGYM"
      },
      "execution_count": null,
      "outputs": []
    },
    {
      "cell_type": "code",
      "source": [
        "plt.imshow(X_test[10].reshape(8,8), cmap=plt.cm.gray_r, interpolation='nearest')\n",
        "y_pred = knn.predict([X_test[10]])\n",
        "print(y_pred)"
      ],
      "metadata": {
        "id": "wwYE7H0jDOCo"
      },
      "execution_count": null,
      "outputs": []
    },
    {
      "cell_type": "code",
      "source": [
        "import matplotlib.pyplot as plt\n",
        "\n",
        "from sklearn import datasets, metrics\n",
        "from sklearn.model_selection import train_test_split\n",
        "\n",
        "digits = datasets.load_digits()\n",
        "plt.imshow(digits.images[0], cmap=plt.cm.gray_r, interpolation='nearest')\n",
        "\n",
        "\n",
        "n_samples = len(digits.images)\n",
        "data = digits.images.reshape((n_samples, -1))\n",
        "\n",
        "from sklearn.neighbors import KNeighborsClassifier\n",
        "\n",
        "knn = KNeighborsClassifier(n_neighbors=6)\n",
        "\n",
        "X_train, X_test, y_train, y_test = train_test_split(\n",
        "    data, digits.target, test_size=0.2)\n",
        "\n",
        "knn.fit(X_train, y_train)\n",
        "\n",
        "y_pred = knn.predict(X_test)\n",
        "\n",
        "scores = metrics.accuracy_score(y_test, y_pred)\n",
        "print(scores)\n",
        "\n",
        "plt.imshow(X_test[10].reshape(8,8), cmap=plt.cm.gray_r, interpolation='nearest')\n",
        "y_pred = knn.predict([X_test[10]])\n",
        "print(y_pred)"
      ],
      "metadata": {
        "id": "ch5p8eOJEYsI"
      },
      "execution_count": null,
      "outputs": []
    }
  ]
}